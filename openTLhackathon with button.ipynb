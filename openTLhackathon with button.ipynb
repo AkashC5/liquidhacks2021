{
 "cells": [
  {
   "cell_type": "code",
   "execution_count": 13,
   "id": "e26357fc",
   "metadata": {},
   "outputs": [],
   "source": [
    "from win32com.client import Dispatch\n",
    "\n",
    "from tkinter import *"
   ]
  },
  {
   "cell_type": "code",
   "execution_count": 16,
   "id": "0f88f128",
   "metadata": {},
   "outputs": [],
   "source": [
    "#make a gui and wrap script in it\n",
    "\n",
    "#add widgets here \n",
    "speak = Dispatch(\"SAPI.SpVoice\").Speak\n",
    "root=Tk()\n",
    "root.geometry(\"600x200+10+10\")\n",
    "root.title(\"How Lee sin learns about LoL players\")\n",
    "lbl=Label(root, text=\"This gui is made for Lee sin\", fg='red', font=(\"Helvetica\", 24))\n",
    "lbl.place(x=100, y=100)\n",
    "\n",
    "\n",
    "def Learnaboutprosfunc(event=None):\n",
    "    import os\n",
    "    from tkinter import messagebox\n",
    "    os.system('python TL_hackathon_updated.py')\n",
    "    #print(\"helloooo\")\n",
    "    #messagebox.showinfo('Message', 'You clicked the Submit button!')\n",
    "\n",
    "#root.bind(\"<space>\", Learnaboutprosfunc)\n",
    "\n",
    "speak(\"Press space to start learning about your favorite league of legends player\")\n",
    "root.mainloop()\n"
   ]
  },
  {
   "cell_type": "code",
   "execution_count": null,
   "id": "e08a4f80",
   "metadata": {},
   "outputs": [],
   "source": []
  },
  {
   "cell_type": "code",
   "execution_count": null,
   "id": "8cf61437",
   "metadata": {},
   "outputs": [],
   "source": []
  }
 ],
 "metadata": {
  "kernelspec": {
   "display_name": "Python 3",
   "language": "python",
   "name": "python3"
  },
  "language_info": {
   "codemirror_mode": {
    "name": "ipython",
    "version": 3
   },
   "file_extension": ".py",
   "mimetype": "text/x-python",
   "name": "python",
   "nbconvert_exporter": "python",
   "pygments_lexer": "ipython3",
   "version": "3.8.8"
  }
 },
 "nbformat": 4,
 "nbformat_minor": 5
}
